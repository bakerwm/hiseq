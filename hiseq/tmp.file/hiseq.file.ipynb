{
 "cells": [
  {
   "cell_type": "code",
   "execution_count": 28,
   "id": "acute-condition",
   "metadata": {
    "execution": {
     "iopub.execute_input": "2021-03-18T14:20:57.002058Z",
     "iopub.status.busy": "2021-03-18T14:20:57.001571Z",
     "iopub.status.idle": "2021-03-18T14:20:57.500957Z",
     "shell.execute_reply": "2021-03-18T14:20:57.500304Z",
     "shell.execute_reply.started": "2021-03-18T14:20:57.002009Z"
    }
   },
   "outputs": [
    {
     "name": "stdout",
     "output_type": "stream",
     "text": [
      "!A-1 /data/yulab/wangming/work/wmlib/hiseq/hiseq/tmp.aligner/test/aaa.fq\n"
     ]
    },
    {
     "data": {
      "text/plain": [
       "'/data/yulab/wangming/work/wmlib/hiseq/hiseq/tmp.aligner/test/aaa.fq'"
      ]
     },
     "execution_count": 28,
     "metadata": {},
     "output_type": "execute_result"
    }
   ],
   "source": [
    "%reload_ext autoreload\n",
    "%autoreload 2\n",
    "import os\n",
    "import re\n",
    "import shutil\n",
    "import logging as log\n",
    "from utils import *\n",
    "\n",
    "\n",
    "x = '../tmp.aligner/test/data/pe_control_rep1_1.fq.gz'\n",
    "y = '../tmp.aligner/test/aaa.fq'\n",
    "\n",
    "gzip_file(x, y, decompress=True, show_error=True)\n",
    "\n",
    "# file_exists(x)\n"
   ]
  }
 ],
 "metadata": {
  "kernelspec": {
   "display_name": "Python 3",
   "language": "python",
   "name": "python3"
  },
  "language_info": {
   "codemirror_mode": {
    "name": "ipython",
    "version": 3
   },
   "file_extension": ".py",
   "mimetype": "text/x-python",
   "name": "python",
   "nbconvert_exporter": "python",
   "pygments_lexer": "ipython3",
   "version": "3.8.6"
  }
 },
 "nbformat": 4,
 "nbformat_minor": 5
}
