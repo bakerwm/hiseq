{
 "cells": [
  {
   "cell_type": "code",
   "execution_count": null,
   "id": "spanish-guide",
   "metadata": {},
   "outputs": [],
   "source": [
    "%reload_ext autoreload\n",
    "%autoreload 2\n",
    "import os\n",
    "import re\n",
    "import shutil\n",
    "import logging as log\n",
    "from utils import *\n",
    "\n",
    "\n",
    "x = '../tmp.aligner/test/data/pe_control_rep1_1.fq.gz'\n",
    "y = '../tmp.aligner/test/aaa.fq'\n",
    "\n",
    "gzip_file(x, y, decompress=True, show_error=True)\n",
    "\n",
    "# file_exists(x)\n"
   ]
  },
  {
   "cell_type": "code",
   "execution_count": 54,
   "id": "above-event",
   "metadata": {
    "execution": {
     "iopub.execute_input": "2021-03-22T17:15:04.465636Z",
     "iopub.status.busy": "2021-03-22T17:15:04.465158Z",
     "iopub.status.idle": "2021-03-22T17:15:04.795074Z",
     "shell.execute_reply": "2021-03-22T17:15:04.794239Z",
     "shell.execute_reply.started": "2021-03-22T17:15:04.465587Z"
    }
   },
   "outputs": [
    {
     "ename": "AttributeError",
     "evalue": "'Bed' object has no attribute '__getitem__'",
     "output_type": "error",
     "traceback": [
      "\u001b[0;31m---------------------------------------------------------------------------\u001b[0m",
      "\u001b[0;31mAttributeError\u001b[0m                            Traceback (most recent call last)",
      "\u001b[0;32m<ipython-input-54-a5fb1a38d93f>\u001b[0m in \u001b[0;36m<module>\u001b[0;34m\u001b[0m\n\u001b[1;32m     39\u001b[0m \u001b[0mbed\u001b[0m \u001b[0;34m=\u001b[0m \u001b[0mBed\u001b[0m\u001b[0;34m(\u001b[0m\u001b[0mb\u001b[0m\u001b[0;34m)\u001b[0m\u001b[0;34m\u001b[0m\u001b[0;34m\u001b[0m\u001b[0m\n\u001b[1;32m     40\u001b[0m \u001b[0;34m\u001b[0m\u001b[0m\n\u001b[0;32m---> 41\u001b[0;31m \u001b[0mbed\u001b[0m\u001b[0;34m.\u001b[0m\u001b[0mget_chrom\u001b[0m\u001b[0;34m(\u001b[0m\u001b[0;34m)\u001b[0m\u001b[0;34m\u001b[0m\u001b[0;34m\u001b[0m\u001b[0m\n\u001b[0m",
      "\u001b[0;32m/data/yulab/wangming/work/wmlib/hiseq/hiseq/tmp.file/bed.py\u001b[0m in \u001b[0;36mget_chrom\u001b[0;34m(self)\u001b[0m\n\u001b[1;32m    271\u001b[0m         \u001b[0mchrom\u001b[0m\u001b[0;34m\u001b[0m\u001b[0;34m\u001b[0m\u001b[0m\n\u001b[1;32m    272\u001b[0m         \"\"\"\n\u001b[0;32m--> 273\u001b[0;31m         \u001b[0;32mreturn\u001b[0m \u001b[0mself\u001b[0m\u001b[0;34m.\u001b[0m\u001b[0m__getitem__\u001b[0m\u001b[0;34m(\u001b[0m\u001b[0;34m'chrom'\u001b[0m\u001b[0;34m)\u001b[0m\u001b[0;34m\u001b[0m\u001b[0;34m\u001b[0m\u001b[0m\n\u001b[0m\u001b[1;32m    274\u001b[0m \u001b[0;34m\u001b[0m\u001b[0m\n\u001b[1;32m    275\u001b[0m     \u001b[0;32mdef\u001b[0m \u001b[0mget_start\u001b[0m\u001b[0;34m(\u001b[0m\u001b[0mself\u001b[0m\u001b[0;34m)\u001b[0m\u001b[0;34m:\u001b[0m\u001b[0;34m\u001b[0m\u001b[0;34m\u001b[0m\u001b[0m\n",
      "\u001b[0;31mAttributeError\u001b[0m: 'Bed' object has no attribute '__getitem__'"
     ]
    }
   ],
   "source": [
    "%reload_ext autoreload\n",
    "%autoreload 2\n",
    "from featurecounts import *\n",
    "\n",
    "\n",
    "\n",
    "args = {\n",
    "    'gtf': 'test/dm6.ensembl.gtf',\n",
    "    'bam_list': ['test/pe_control_rep1.bam'],\n",
    "    'outdir': 'test/results',\n",
    "    'strandness': 1,\n",
    "    'feature_type': 'exon',\n",
    "    'overwrite': True,\n",
    "}\n",
    "\n",
    "\n",
    "# FeatureCounts(**args).run()\n",
    "\n",
    "x = 'test/results/count.txt.summary'\n",
    "\n",
    "# read_fc_summary(x)\n",
    "x = 'test/results/count.txt'\n",
    "# read_fc_txt(x)\n",
    "\n",
    "# with open(x) as r:\n",
    "#     a = r.readline()\n",
    "\n",
    "# b = a.replace('\"', '').split()\n",
    "\n",
    "\n",
    "# b[b.index('-s')+1]\n",
    "\n",
    "\n",
    "\n",
    "from bed import *\n",
    "\n",
    "b = 'test/dm6_transposon.bed'\n",
    "\n",
    "bed = Bed(b)\n",
    "\n",
    "bed.get_chrom()"
   ]
  },
  {
   "cell_type": "code",
   "execution_count": null,
   "id": "active-salem",
   "metadata": {},
   "outputs": [],
   "source": []
  }
 ],
 "metadata": {
  "kernelspec": {
   "display_name": "Python 3",
   "language": "python",
   "name": "python3"
  },
  "language_info": {
   "codemirror_mode": {
    "name": "ipython",
    "version": 3
   },
   "file_extension": ".py",
   "mimetype": "text/x-python",
   "name": "python",
   "nbconvert_exporter": "python",
   "pygments_lexer": "ipython3",
   "version": "3.8.6"
  }
 },
 "nbformat": 4,
 "nbformat_minor": 5
}
