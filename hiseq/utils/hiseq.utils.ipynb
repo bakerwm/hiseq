{
 "cells": [
  {
   "cell_type": "code",
   "execution_count": 4,
   "id": "endless-delicious",
   "metadata": {
    "execution": {
     "iopub.execute_input": "2021-03-22T23:48:42.752636Z",
     "iopub.status.busy": "2021-03-22T23:48:42.752120Z",
     "iopub.status.idle": "2021-03-22T23:48:42.835324Z",
     "shell.execute_reply": "2021-03-22T23:48:42.834292Z",
     "shell.execute_reply.started": "2021-03-22T23:48:42.752587Z"
    }
   },
   "outputs": [
    {
     "ename": "NameError",
     "evalue": "name 'PeakIDR' is not defined",
     "output_type": "error",
     "traceback": [
      "\u001b[0;31m---------------------------------------------------------------------------\u001b[0m",
      "\u001b[0;31mNameError\u001b[0m                                 Traceback (most recent call last)",
      "\u001b[0;32m<ipython-input-4-7dd70bd2c5e9>\u001b[0m in \u001b[0;36m<module>\u001b[0;34m\u001b[0m\n\u001b[1;32m      9\u001b[0m }\n\u001b[1;32m     10\u001b[0m \u001b[0;34m\u001b[0m\u001b[0m\n\u001b[0;32m---> 11\u001b[0;31m \u001b[0mPeakIDR\u001b[0m\u001b[0;34m(\u001b[0m\u001b[0;34m**\u001b[0m\u001b[0margs\u001b[0m\u001b[0;34m)\u001b[0m\u001b[0;34m\u001b[0m\u001b[0;34m\u001b[0m\u001b[0m\n\u001b[0m\u001b[1;32m     12\u001b[0m \u001b[0;34m\u001b[0m\u001b[0m\n",
      "\u001b[0;31mNameError\u001b[0m: name 'PeakIDR' is not defined"
     ]
    }
   ],
   "source": [
    "from idr import *\n",
    "from file import *\n",
    "\n",
    "peak = list_file('test', '*Peak')\n",
    "\n",
    "args = {\n",
    "    'peak': peak[:2],\n",
    "    'outdir': 'test/results',\n",
    "}\n",
    "\n",
    "PeakIDR(**args)\n",
    "\n"
   ]
  }
 ],
 "metadata": {
  "kernelspec": {
   "display_name": "Python 3",
   "language": "python",
   "name": "python3"
  },
  "language_info": {
   "codemirror_mode": {
    "name": "ipython",
    "version": 3
   },
   "file_extension": ".py",
   "mimetype": "text/x-python",
   "name": "python",
   "nbconvert_exporter": "python",
   "pygments_lexer": "ipython3",
   "version": "3.8.6"
  }
 },
 "nbformat": 4,
 "nbformat_minor": 5
}
