{
 "cells": [
  {
   "cell_type": "code",
   "execution_count": 19,
   "id": "b2fa76a8-026d-440c-b88c-8b01b084d22a",
   "metadata": {
    "execution": {
     "iopub.execute_input": "2021-08-27T00:36:26.706955Z",
     "iopub.status.busy": "2021-08-27T00:36:26.706447Z",
     "iopub.status.idle": "2021-08-27T00:36:27.192756Z",
     "shell.execute_reply": "2021-08-27T00:36:27.192005Z",
     "shell.execute_reply.started": "2021-08-27T00:36:26.706908Z"
    },
    "tags": []
   },
   "outputs": [
    {
     "data": {
      "text/plain": [
       "('dm3-blacklist.v2.bed.gz', <http.client.HTTPMessage at 0x7fa718ca5040>)"
      ]
     },
     "execution_count": 19,
     "metadata": {},
     "output_type": "execute_result"
    }
   ],
   "source": [
    "import os\n",
    "# testfile = urllib.URLopener()\n",
    "# url = 'https://github.com/Boyle-Lab/Blacklist/blob/master/lists/mm10-blacklist.v2.bed.gz'\n",
    "# f = os.path.basename(url)\n",
    "# testfile.retrieve(url, f)\n",
    "# testfile.retrieve(\"http://randomsite.com/file.gz\", \"file.gz\")\n",
    "\n",
    "# from urllib import request\n",
    "# # Define the remote file to retrieve\n",
    "# remote_url = 'https://www.google.com/robots.txt'\n",
    "# # Define the local filename to save data\n",
    "# local_file = 'local_copy.txt'\n",
    "# # Download remote and save locally\n",
    "# request.urlretrieve(remote_url, local_file)\n",
    "\n",
    "from urllib import request\n",
    "from hiseq.utils.utils import log\n",
    "    \n",
    "def download_file(url, file):\n",
    "    \"\"\"\n",
    "    Download url and save to file\n",
    "    \n",
    "    from urllib import request\n",
    "    # Define the remote file to retrieve\n",
    "    remote_url = 'https://www.google.com/robots.txt'\n",
    "    # Define the local filename to save data\n",
    "    local_file = 'local_copy.txt'\n",
    "    # Download remote and save locally\n",
    "    request.urlretrieve(remote_url, local_file)\n",
    "    \"\"\"\n",
    "    file = os.path.abspath(file)\n",
    "    file_dir = os.path.dirname(file)\n",
    "    if not os.path.exists(file_dir):\n",
    "        log.error('dir not exists: {}'.format(file_dir))\n",
    "    elif os.path.exists(file):\n",
    "        log.error('file exists: {}'.format(file))\n",
    "    else:\n",
    "        try:\n",
    "            request.urlretrieve(url, file)\n",
    "        except:\n",
    "            log.error('failed downloading file: {}'.format(url))\n",
    "        if os.path.exists(file):\n",
    "            log.info('saving file: {}'.format(file))\n",
    "            \n",
    "# url = 'https://raw.githubusercontent.com/Boyle-Lab/Blacklist/master/lists/dm3-blacklist.v2.bed.gz'\n",
    "# url = 'https://github.com/kennethreitz/requests/blob/master/README.rst'\n",
    "# url = 'https://raw.githubusercontent.com/kennethreitz/requests/master/README.md'\n",
    "# url = 'http://192.168.205.204/index.html'\n",
    "# f = os.path.basename(url)\n",
    "# request.urlretrieve(url, f)\n",
    "# download_file(url, f)\n",
    "# ullib.request.urlretrieve(url, f)"
   ]
  },
  {
   "cell_type": "code",
   "execution_count": 23,
   "id": "e95028f6-5c68-4ad7-9a52-3fb7314aec3c",
   "metadata": {
    "execution": {
     "iopub.execute_input": "2021-08-27T05:14:19.772424Z",
     "iopub.status.busy": "2021-08-27T05:14:19.771897Z",
     "iopub.status.idle": "2021-08-27T05:14:19.976940Z",
     "shell.execute_reply": "2021-08-27T05:14:19.976105Z",
     "shell.execute_reply.started": "2021-08-27T05:14:19.772374Z"
    },
    "tags": []
   },
   "outputs": [
    {
     "name": "stdout",
     "output_type": "stream",
     "text": [
      "[2021-08-27 13:14:19 INFO] hg19 is: supported_genomes\n",
      "/data/yulab/wangming/data/genome/hg19/bigZips/hg19.fa\n",
      "/data/yulab/wangming/data/genome/hg19/bigZips/hg19.fa.chrom.sizes\n",
      "/data/yulab/wangming/data/genome/hg19/annotation_and_repeats/hg19.ensembl.bed\n",
      "/data/yulab/wangming/data/genome/hg19/annotation_and_repeats/hg19.ensembl.gtf\n",
      "None\n",
      "None\n",
      "/data/yulab/wangming/data/genome/hg19/annotation_and_repeats/blacklist/hg19-blacklist.v2.bed\n"
     ]
    }
   ],
   "source": [
    "%reload_ext autoreload\n",
    "%autoreload 2\n",
    "from genome import Genome\n",
    "\n",
    "g = Genome('hg19')\n",
    "s = [\n",
    "    g.fa(),\n",
    "    g.fasize(),\n",
    "    g.gene_bed('ensembl'),\n",
    "    g.gene_gtf('ensembl'),\n",
    "    g.te(),\n",
    "    g.piRNA_cluster(),\n",
    "    g.blacklist(),\n",
    "]\n",
    "s = list(map(str, s))\n",
    "print('\\n'.join(s))"
   ]
  }
 ],
 "metadata": {
  "kernelspec": {
   "display_name": "Python 3",
   "language": "python",
   "name": "python3"
  },
  "language_info": {
   "codemirror_mode": {
    "name": "ipython",
    "version": 3
   },
   "file_extension": ".py",
   "mimetype": "text/x-python",
   "name": "python",
   "nbconvert_exporter": "python",
   "pygments_lexer": "ipython3",
   "version": "3.8.6"
  }
 },
 "nbformat": 4,
 "nbformat_minor": 5
}
