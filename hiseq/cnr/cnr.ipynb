{
 "cells": [
  {
   "cell_type": "code",
   "execution_count": null,
   "id": "surgical-likelihood",
   "metadata": {},
   "outputs": [],
   "source": [
    "## test CnrR1\n",
    "\n",
    "%reload_ext autoreload\n",
    "%autoreload 2\n",
    "import os\n",
    "import sys\n",
    "from cnr_r1 import CnrR1\n",
    "from hiseq.utils.file import list_file\n",
    "\n",
    "\n",
    "data_dir = '/data/yulab/wangming/work/devel_pipeline/hiseq/cnr/data/fruitfly/'\n",
    "\n",
    "fq1 = list_file(data_dir, '*Piwi*K4*1.fq.gz')\n",
    "fq2 = list_file(data_dir, '*Piwi*K4*2.fq.gz')\n",
    "outdir = '/data/yulab/wangming/work/devel_pipeline/hiseq/cnr/output/fruitfly'\n",
    "\n",
    "args = {\n",
    "    'fq1': fq1[1],\n",
    "    'fq2': fq2[1],\n",
    "    'genome': 'dm6',\n",
    "    'outdir': outdir,\n",
    "    'threads': 12,\n",
    "    'parallel_jobs': 2\n",
    "}\n",
    "\n",
    "CnrR1(**args).run()\n",
    "\n",
    "\n"
   ]
  },
  {
   "cell_type": "code",
   "execution_count": 4,
   "id": "parliamentary-accused",
   "metadata": {
    "execution": {
     "iopub.execute_input": "2021-05-28T09:22:33.459649Z",
     "iopub.status.busy": "2021-05-28T09:22:33.459160Z",
     "iopub.status.idle": "2021-05-28T09:22:34.259400Z",
     "shell.execute_reply": "2021-05-28T09:22:34.258688Z",
     "shell.execute_reply.started": "2021-05-28T09:22:33.459600Z"
    }
   },
   "outputs": [
    {
     "name": "stdout",
     "output_type": "stream",
     "text": [
      "[2021-05-28 17:22:33 WARNING] hiseq_dir not match, expect _r1, got cnr_rn\n",
      "--------------------------------------------------------------------------------\n",
      "Check files for FeatureCounts\n",
      "           gtf : /data/yulab/wangming/work/devel_pipeline/hiseq/cnr/output/fruitfly/CUT_and_RUN_Piwi_RNAi_embryo_3_4h_H3K4me3/peak/CUT_and_RUN_Piwi_RNAi_embryo_3_4h_H3K4me3_peaks.narrowPeak\n",
      "      bam_list : ['/data/yulab/wangming/work/devel_pipeline/hiseq/cnr/output/fruitfly/CUT_and_RUN_Piwi_RNAi_embryo_3_4h_H3K4me3/bam_files/CUT_and_RUN_Piwi_RNAi_embryo_3_4h_H3K4me3.rmdup.bam']\n",
      "--------------------------------------------------------------------------------\n",
      "--------------------------------------------------------------------------------\n",
      "Run featureCounts:\n",
      " bam_files: ['/data/yulab/wangming/work/devel_pipeline/hiseq/cnr/output/fruitfly/CUT_and_RUN_Piwi_RNAi_embryo_3_4h_H3K4me3/bam_files/CUT_and_RUN_Piwi_RNAi_embryo_3_4h_H3K4me3.rmdup.bam']\n",
      "  gtf file: /data/yulab/wangming/work/devel_pipeline/hiseq/cnr/output/fruitfly/CUT_and_RUN_Piwi_RNAi_embryo_3_4h_H3K4me3/peak/CUT_and_RUN_Piwi_RNAi_embryo_3_4h_H3K4me3_peaks.narrowPeak\n",
      "   feature: exon\n",
      "    strand: 0\n",
      " count.txt: /tmp/tmpy_roumh9/count.txt\n",
      "log_stdout: /tmp/tmpy_roumh9/count.txt.featureCounts.stdout\n",
      "log_stderr: /tmp/tmpy_roumh9/count.txt.featureCounts.stderr\n",
      "--------------------------------------------------------------------------------\n",
      "[2021-05-28 17:22:33 INFO] run_shell_cmd: PID=1871945, PGID=1871945, CMD=/data/yulab/wangming/miniconda3/envs/hiseq/bin/featureCounts -s 0 -o /tmp/tmpy_roumh9/count.txt -T 4 -M -O --fraction -p -C -B -a /tmp/tmpy_roumh9/CUT_and_RUN_Piwi_RNAi_embryo_3_4h_H3K4me3_peaks.saf -F SAF /data/yulab/wangming/work/devel_pipeline/hiseq/cnr/output/fruitfly/CUT_and_RUN_Piwi_RNAi_embryo_3_4h_H3K4me3/bam_files/CUT_and_RUN_Piwi_RNAi_embryo_3_4h_H3K4me3.rmdup.bam 1> /tmp/tmpy_roumh9/count.txt.featureCounts.stdout 2> /tmp/tmpy_roumh9/count.txt.featureCounts.stderr\n",
      "[2021-05-28 17:22:34 INFO]                                                     assigned strandness\n",
      "CUT_and_RUN_Piwi_RNAi_embryo_3_4h_H3K4me3.rmdup...    0.7014          0\n",
      "[2021-05-28 17:22:34 ERROR] to_json(d=) failed, dict expect, got DataFrame\n",
      "[2021-05-28 17:22:34 ERROR] from_json() failed, file not exists: /tmp/tmpy_roumh9/count.txt.summary.json\n",
      "[2021-05-28 17:22:34 ERROR] PeakFRiP() failed, see: /data/yulab/wangming/work/devel_pipeline/hiseq/cnr/output/fruitfly/CUT_and_RUN_Piwi_RNAi_embryo_3_4h_H3K4me3/qc/03.FRiP.json\n"
     ]
    }
   ],
   "source": [
    "## test CnrRn\n",
    "\n",
    "%reload_ext autoreload\n",
    "%autoreload 2\n",
    "import os\n",
    "import sys\n",
    "from cnr_r1 import CnrR1\n",
    "from cnr_rn import CnrRn\n",
    "from hiseq.utils.file import list_file\n",
    "from hiseq.utils.utils import read_hiseq\n",
    "from utils import qc_frip\n",
    "\n",
    "data_dir = '/data/yulab/wangming/work/devel_pipeline/hiseq/cnr/data/fruitfly/'\n",
    "\n",
    "fq1 = list_file(data_dir, '*Piwi*K4*1.fq.gz')\n",
    "fq2 = list_file(data_dir, '*Piwi*K4*2.fq.gz')\n",
    "outdir = '/data/yulab/wangming/work/devel_pipeline/hiseq/cnr/output/fruitfly'\n",
    "\n",
    "args = {\n",
    "    'fq1': fq1,\n",
    "    'fq2': fq2,\n",
    "    'genome': 'dm6',\n",
    "    'outdir': outdir\n",
    "}\n",
    "\n",
    "# CnrRn(**args).run()\n",
    "\n",
    "x = '/data/yulab/wangming/work/devel_pipeline/hiseq/cnr/output/fruitfly/CUT_and_RUN_Piwi_RNAi_embryo_3_4h_H3K4me3/'\n",
    "# pd = read_hiseq(x)\n",
    "qc_frip(x)"
   ]
  }
 ],
 "metadata": {
  "kernelspec": {
   "display_name": "Python 3",
   "language": "python",
   "name": "python3"
  },
  "language_info": {
   "codemirror_mode": {
    "name": "ipython",
    "version": 3
   },
   "file_extension": ".py",
   "mimetype": "text/x-python",
   "name": "python",
   "nbconvert_exporter": "python",
   "pygments_lexer": "ipython3",
   "version": "3.8.6"
  }
 },
 "nbformat": 4,
 "nbformat_minor": 5
}
