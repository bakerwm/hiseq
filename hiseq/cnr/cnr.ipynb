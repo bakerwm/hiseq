{
 "cells": [
  {
   "cell_type": "code",
   "execution_count": null,
   "id": "improved-mirror",
   "metadata": {
    "jupyter": {
     "source_hidden": true
    }
   },
   "outputs": [],
   "source": [
    "## test CnrR1\n",
    "\n",
    "%reload_ext autoreload\n",
    "%autoreload 2\n",
    "import os\n",
    "import sys\n",
    "from cnr_r1 import CnrR1\n",
    "from hiseq.utils.file import list_file\n",
    "\n",
    "\n",
    "data_dir = '/data/yulab/wangming/work/devel_pipeline/hiseq/cnr/data/fruitfly/'\n",
    "\n",
    "fq1 = list_file(data_dir, '*Piwi*K4*1.fq.gz')\n",
    "fq2 = list_file(data_dir, '*Piwi*K4*2.fq.gz')\n",
    "outdir = '/data/yulab/wangming/work/devel_pipeline/hiseq/cnr/output/fruitfly'\n",
    "\n",
    "args = {\n",
    "    'fq1': fq1[1],\n",
    "    'fq2': fq2[1],\n",
    "    'genome': 'dm6',\n",
    "    'outdir': outdir,\n",
    "    'threads': 12,\n",
    "    'parallel_jobs': 2\n",
    "}\n",
    "\n",
    "CnrR1(**args).run()\n",
    "\n",
    "\n"
   ]
  },
  {
   "cell_type": "code",
   "execution_count": null,
   "id": "described-agreement",
   "metadata": {
    "jupyter": {
     "source_hidden": true
    }
   },
   "outputs": [],
   "source": [
    "## test CnrRn\n",
    "\n",
    "%reload_ext autoreload\n",
    "%autoreload 2\n",
    "import os\n",
    "import sys\n",
    "from cnr_r1 import CnrR1\n",
    "from cnr_rn import CnrRn\n",
    "from hiseq.utils.file import list_file\n",
    "from hiseq.utils.utils import read_hiseq\n",
    "from utils import qc_frip\n",
    "\n",
    "data_dir = '/data/yulab/wangming/work/devel_pipeline/hiseq/cnr/data/fruitfly/'\n",
    "\n",
    "\n",
    "fq1 = list_file(data_dir, '*Piwi*IgG*1.fq.gz')\n",
    "fq2 = list_file(data_dir, '*Piwi*IgG*2.fq.gz')\n",
    "\n",
    "outdir = '/data/yulab/wangming/work/devel_pipeline/hiseq/cnr/output/fruitfly'\n",
    "\n",
    "args = {\n",
    "    'fq1': fq1,\n",
    "    'fq2': fq2,\n",
    "    'genome': 'dm6',\n",
    "    'outdir': outdir,\n",
    "    'threads': 12,\n",
    "    'parallel_jobs': 4\n",
    "}\n",
    "\n",
    "CnrRn(**args).run()\n",
    "\n",
    "# x = '/data/yulab/wangming/work/devel_pipeline/hiseq/cnr/output/fruitfly/CUT_and_RUN_Piwi_RNAi_embryo_3_4h_H3K4me3/'\n",
    "# pd = read_hiseq(x)\n",
    "# qc_frip(x)"
   ]
  },
  {
   "cell_type": "code",
   "execution_count": null,
   "id": "intensive-stadium",
   "metadata": {},
   "outputs": [],
   "source": [
    "# test CnrRx # design\n",
    "\n",
    "%reload_ext autoreload\n",
    "%autoreload 2\n",
    "import os\n",
    "import sys\n",
    "from cnr_r1 import CnrR1\n",
    "from cnr_rn import CnrRn\n",
    "from cnr_rx import CnrRx\n",
    "from hiseq.utils.file import list_file\n",
    "from hiseq.utils.utils import read_hiseq, print_dict\n",
    "from utils import qc_frip\n",
    "data_dir = '/data/yulab/wangming/work/devel_pipeline/hiseq/cnr/data/fruitfly/'\n",
    "\n",
    "ip_fq1 = list_file(data_dir, '*White*K4*1.fq.gz')\n",
    "ip_fq2 = list_file(data_dir, '*White*K4*2.fq.gz')\n",
    "input_fq1 = list_file(data_dir, '*White*IgG*1.fq.gz')\n",
    "input_fq2 = list_file(data_dir, '*White*IgG*2.fq.gz')\n",
    "\n",
    "outdir = '/data/yulab/wangming/work/devel_pipeline/hiseq/cnr/output/fruitfly'\n",
    "\n",
    "args = {\n",
    "    'ip_fq1': ip_fq1,\n",
    "    'ip_fq2': ip_fq2,\n",
    "    'input_fq1': input_fq1,\n",
    "    'input_fq2': input_fq2,\n",
    "    'genome': 'dm6',\n",
    "    'outdir': outdir,\n",
    "    'threads': 12,\n",
    "    'parallel_jobs': 4,\n",
    "    'gene_bed': '/home/wangming/data/genome/dm6/annotation_and_repeats/dm6.ensembl.bed',\n",
    "}\n",
    "\n",
    "CnrRx(**args).run()\n"
   ]
  },
  {
   "cell_type": "code",
   "execution_count": 10,
   "id": "packed-porter",
   "metadata": {
    "execution": {
     "iopub.execute_input": "2021-05-30T17:27:43.392290Z",
     "iopub.status.busy": "2021-05-30T17:27:43.391953Z",
     "iopub.status.idle": "2021-05-30T17:27:43.398945Z",
     "shell.execute_reply": "2021-05-30T17:27:43.398029Z",
     "shell.execute_reply.started": "2021-05-30T17:27:43.392257Z"
    }
   },
   "outputs": [
    {
     "data": {
      "text/plain": [
       "'20210531_012743'"
      ]
     },
     "execution_count": 10,
     "metadata": {},
     "output_type": "execute_result"
    }
   ],
   "source": [
    "from hiseq.utils.utils import get_date\n",
    "\n",
    "\n",
    "t = get_date() # '2021-05-31 01:26:40'\n",
    "t = t.replace('-', '').replace(':', '').replace(' ', '_')\n",
    "t"
   ]
  },
  {
   "cell_type": "code",
   "execution_count": null,
   "id": "studied-maple",
   "metadata": {
    "jupyter": {
     "source_hidden": true
    }
   },
   "outputs": [],
   "source": [
    "# test CnrRd # design\n",
    "%reload_ext autoreload\n",
    "%autoreload 2\n",
    "from cnr_rd import CnrRd\n",
    "\n",
    "data_dir = '/data/yulab/wangming/work/devel_pipeline/hiseq/cnr/data/fruitfly/'\n",
    "\n",
    "ip_fq1 = list_file(data_dir, '*Piwi*K4*1.fq.gz')\n",
    "ip_fq2 = list_file(data_dir, '*Piwi*K4*2.fq.gz')\n",
    "\n",
    "input_fq1 = list_file(data_dir, '*Piwi*IgG*1.fq.gz')\n",
    "input_fq2 = list_file(data_dir, '*Piwi*IgG*2.fq.gz')\n",
    "outdir = '/data/yulab/wangming/work/devel_pipeline/hiseq/cnr/output/fruitfly'\n",
    "\n",
    "args = {\n",
    "    'design': 'aaa.toml',\n",
    "    'fq_dir': data_dir,\n",
    "    'ip_fq1': ip_fq1,\n",
    "    'ip_fq2': ip_fq2,\n",
    "    'input_fq1': input_fq1,\n",
    "    'input_fq2': input_fq2\n",
    "}\n",
    "\n",
    "\n",
    "args = {\n",
    "    'design': 'aaa.toml',\n",
    "    'fq_dir': data_dir,\n",
    "    'ip': ['Piwi_RNAi_embryo_3_4h_H3K4me3', 'White_RNAi_embryo_3_4h_H3K4me3'],\n",
    "    'input': ['Piwi_RNAi_embryo_3_4h_IgG'],\n",
    "}\n",
    "\n",
    "a = CnrRd(**args)\n",
    "\n",
    "#a.check_fx_args()\n",
    "df = a.run()"
   ]
  },
  {
   "cell_type": "code",
   "execution_count": null,
   "id": "vietnamese-peter",
   "metadata": {
    "jupyter": {
     "source_hidden": true
    }
   },
   "outputs": [],
   "source": [
    "\n",
    "from difflib import SequenceMatcher\n",
    "\n",
    "string1 = \"apple pie available\"\n",
    "string2 = \"come have some apple pies\"\n",
    "\n",
    "# match = SequenceMatcher(None, string1, string2).find_longest_match(0, len(string1), 0, len(string2))\n",
    "\n",
    "# print(match)  # -> Match(a=0, b=15, size=9)\n",
    "# print(string1[match.a: match.a + match.size])  # -> apple pie\n",
    "# print(string2[match.b: match.b + match.size])  # -> apple pie\n",
    "\n",
    "# string1[match.a:match.a+match.size]\n",
    "\n",
    "# dir(match)\n",
    "\n",
    "\n",
    "## Temp\n",
    "def find_longest_common_str(s1, s2):\n",
    "    if isinstance(s1, str) and isinstance(s2, str):\n",
    "        m = SequenceMatcher(None, s1, s2) # match\n",
    "        l = m.find_longest_match(0, len(s1), 0, len(s2))\n",
    "        out = s1[l.a: l.a + l.size]\n",
    "    else:\n",
    "        log.error('only support str, got s1={} s2={}'.type(\n",
    "            type(s1).__name__, type(s2).__name__))\n",
    "        out = None\n",
    "    return out\n",
    "\n",
    "\n",
    "\n",
    "find_longest_common_str('abc', 'efgab')\n"
   ]
  }
 ],
 "metadata": {
  "kernelspec": {
   "display_name": "Python 3",
   "language": "python",
   "name": "python3"
  },
  "language_info": {
   "codemirror_mode": {
    "name": "ipython",
    "version": 3
   },
   "file_extension": ".py",
   "mimetype": "text/x-python",
   "name": "python",
   "nbconvert_exporter": "python",
   "pygments_lexer": "ipython3",
   "version": "3.8.6"
  }
 },
 "nbformat": 4,
 "nbformat_minor": 5
}
