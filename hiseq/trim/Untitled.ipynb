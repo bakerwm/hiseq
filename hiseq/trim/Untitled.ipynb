{
 "cells": [
  {
   "cell_type": "code",
   "execution_count": 12,
   "id": "flexible-republic",
   "metadata": {
    "execution": {
     "iopub.execute_input": "2021-06-01T03:44:11.584975Z",
     "iopub.status.busy": "2021-06-01T03:44:11.584444Z",
     "iopub.status.idle": "2021-06-01T03:44:14.420772Z",
     "shell.execute_reply": "2021-06-01T03:44:14.420148Z",
     "shell.execute_reply.started": "2021-06-01T03:44:11.584918Z"
    }
   },
   "outputs": [
    {
     "name": "stdout",
     "output_type": "stream",
     "text": [
      "================================================================================\n",
      "Run TrimR1() with parameters:\n",
      "           fq1 : /data/yulab/wangming/work/devel_pipeline/hiseq/rnaseq/data/demo/RNAseq_I_R_Hybrid_Dys_6h_rep1_1.fq.gz\n",
      "           fq2 : /data/yulab/wangming/work/devel_pipeline/hiseq/rnaseq/data/demo/RNAseq_I_R_Hybrid_Dys_6h_rep1_2.fq.gz\n",
      "----------------------------------------\n",
      "     fq1 [str] : True\n",
      "   fq1 [fastq] : True\n",
      "     fq2 [str] : True\n",
      "   fq2 [fastq] : True\n",
      "   fq [paired] : True\n",
      "----------------------------------------\n",
      "Status: True\n",
      "================================================================================\n",
      "!A-3 (None, None, '9,-9', '9', '-9')\n",
      "================================================================================\n",
      "Run Cutadapt() with parameters:\n",
      "           fq1 : /data/yulab/wangming/work/devel_pipeline/hiseq/rnaseq/data/demo/RNAseq_I_R_Hybrid_Dys_6h_rep1_1.fq.gz\n",
      "           fq2 : /data/yulab/wangming/work/devel_pipeline/hiseq/rnaseq/data/demo/RNAseq_I_R_Hybrid_Dys_6h_rep1_2.fq.gz\n",
      "----------------------------------------\n",
      "     fq1 [str] : True\n",
      "   fq1 [fastq] : True\n",
      "     fq2 [str] : True\n",
      "   fq2 [fastq] : True\n",
      "   fq [paired] : True\n",
      "----------------------------------------\n",
      "Status: True\n",
      "================================================================================\n",
      "[2021-06-01 11:44:11 INFO] Auto detect the adapters:\n",
      "Type\tsequence\ttotal\tcount\tpercent\n",
      "TruSeq\tAGATCGGAAGAGC\t1000000\t32539\t3.25%\n",
      "Nextera\tCTGTCTCTTATA\t1000000\t0\t0.00%\n",
      "smallRNA\tTGGAATTCTCGG\t1000000\t1\t0.00%\n",
      "[2021-06-01 11:44:12 INFO] run_shell_cmd: PID=181303, PGID=181303, CMD=/data/yulab/wangming/miniconda3/envs/hiseq/bin/cutadapt -j 8 -a AGATCGGAAGAGCACACGT -A AGATCGGAAGAGCGTCGTG   -j 8 -m 15 -q 20 -O 3 -e 0.1 -n 3 --trim-n --max-n=0.1       -o /data/yulab/wangming/work/devel_pipeline/hiseq/rnaseq/trim_r1/RNAseq_I_R_Hybrid_Dys_6h_rep1/tmp/01_cutadapt/RNAseq_I_R_Hybrid_Dys_6h_rep1/RNAseq_I_R_Hybrid_Dys_6h_rep1_1.fq.gz -p /data/yulab/wangming/work/devel_pipeline/hiseq/rnaseq/trim_r1/RNAseq_I_R_Hybrid_Dys_6h_rep1/tmp/01_cutadapt/RNAseq_I_R_Hybrid_Dys_6h_rep1/RNAseq_I_R_Hybrid_Dys_6h_rep1_2.fq.gz /data/yulab/wangming/work/devel_pipeline/hiseq/rnaseq/data/demo/RNAseq_I_R_Hybrid_Dys_6h_rep1_1.fq.gz /data/yulab/wangming/work/devel_pipeline/hiseq/rnaseq/data/demo/RNAseq_I_R_Hybrid_Dys_6h_rep1_2.fq.gz 1>/data/yulab/wangming/work/devel_pipeline/hiseq/rnaseq/trim_r1/RNAseq_I_R_Hybrid_Dys_6h_rep1/tmp/01_cutadapt/RNAseq_I_R_Hybrid_Dys_6h_rep1/RNAseq_I_R_Hybrid_Dys_6h_rep1.cutadapt.log\n",
      "[2021-06-01 11:44:14 INFO] rm:yes\tis_file:yes\t/data/yulab/wangming/work/devel_pipeline/hiseq/rnaseq/trim_r1/RNAseq_I_R_Hybrid_Dys_6h_rep1/tmp/01_cutadapt/RNAseq_I_R_Hybrid_Dys_6h_rep1/RNAseq_I_R_Hybrid_Dys_6h_rep1_1.fq.gz\n",
      "[2021-06-01 11:44:14 INFO] rm:yes\tis_file:yes\t/data/yulab/wangming/work/devel_pipeline/hiseq/rnaseq/trim_r1/RNAseq_I_R_Hybrid_Dys_6h_rep1/tmp/01_cutadapt/RNAseq_I_R_Hybrid_Dys_6h_rep1/RNAseq_I_R_Hybrid_Dys_6h_rep1_2.fq.gz\n",
      "[2021-06-01 11:44:14 INFO] rm:no \tis_file:no\t/data/yulab/wangming/work/devel_pipeline/hiseq/rnaseq/trim_r1/RNAseq_I_R_Hybrid_Dys_6h_rep1/tmp/02_rmdup/RNAseq_I_R_Hybrid_Dys_6h_rep1_1.fq.gz\n",
      "[2021-06-01 11:44:14 INFO] rm:no \tis_file:no\t/data/yulab/wangming/work/devel_pipeline/hiseq/rnaseq/trim_r1/RNAseq_I_R_Hybrid_Dys_6h_rep1/tmp/02_rmdup/RNAseq_I_R_Hybrid_Dys_6h_rep1_2.fq.gz\n",
      "[2021-06-01 11:44:14 INFO] rm:yes\tis_file:yes\t/data/yulab/wangming/work/devel_pipeline/hiseq/rnaseq/trim_r1/RNAseq_I_R_Hybrid_Dys_6h_rep1/tmp/03_cut_after_trim/RNAseq_I_R_Hybrid_Dys_6h_rep1_1.fq.gz\n",
      "[2021-06-01 11:44:14 INFO] rm:yes\tis_file:yes\t/data/yulab/wangming/work/devel_pipeline/hiseq/rnaseq/trim_r1/RNAseq_I_R_Hybrid_Dys_6h_rep1/tmp/03_cut_after_trim/RNAseq_I_R_Hybrid_Dys_6h_rep1_2.fq.gz\n",
      "[2021-06-01 11:44:14 INFO] Output: 97042 of 100000 (97.04%)\n"
     ]
    }
   ],
   "source": [
    "%reload_ext autoreload\n",
    "%autoreload 2\n",
    "\n",
    "import os\n",
    "import sys\n",
    "import re\n",
    "from trim_r1 import TrimR1\n",
    "from hiseq.utils.file import check_fx\n",
    "\n",
    "args = {\n",
    "    'fq1': '/data/yulab/wangming/work/devel_pipeline/hiseq/rnaseq/data/demo/RNAseq_I_R_Hybrid_Dys_6h_rep1_1.fq.gz',\n",
    "    'fq2': '/data/yulab/wangming/work/devel_pipeline/hiseq/rnaseq/data/demo/RNAseq_I_R_Hybrid_Dys_6h_rep1_2.fq.gz',\n",
    "    'outdir': '/data/yulab/wangming/work/devel_pipeline/hiseq/rnaseq/trim_r1',\n",
    "    'cut_after_trim': '9,-9',\n",
    "    'threads': 8,\n",
    "}\n",
    "\n",
    "TrimR1(**args).run()\n",
    "\n"
   ]
  }
 ],
 "metadata": {
  "kernelspec": {
   "display_name": "Python 3",
   "language": "python",
   "name": "python3"
  },
  "language_info": {
   "codemirror_mode": {
    "name": "ipython",
    "version": 3
   },
   "file_extension": ".py",
   "mimetype": "text/x-python",
   "name": "python",
   "nbconvert_exporter": "python",
   "pygments_lexer": "ipython3",
   "version": "3.8.6"
  }
 },
 "nbformat": 4,
 "nbformat_minor": 5
}
