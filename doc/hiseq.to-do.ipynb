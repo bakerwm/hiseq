{
 "cells": [
  {
   "cell_type": "code",
   "execution_count": null,
   "id": "appreciated-variety",
   "metadata": {},
   "outputs": [],
   "source": [
    "# dev version\n",
    "\n",
    "\n",
    "\n",
    "\n",
    "## to-do list\n",
    "\n",
    "- [ ] bam - module, \n",
    "- [ ] fastx - module, \n",
    "- [ ] qc.fragsize  \n",
    "- [ ] qc.nucleotide_content \n",
    "- [ ] qc.coverage (bam,gene) \n",
    "\n",
    "### Main module\n",
    "\n",
    "- [ ] align (standard port)  \n",
    "- [ ] \n",
    "\n",
    "\n",
    "\n",
    "\n",
    "\n",
    "\n",
    "\n",
    "\n",
    "\n",
    "\n",
    "\n",
    "\n",
    "\n",
    "\n",
    "\n",
    "\n",
    "\n",
    "\n",
    "\n",
    "\n",
    "\n",
    "\n",
    "\n",
    "\n",
    "\n",
    "\n",
    "\n",
    "\n",
    "\n",
    "\n",
    "\n",
    "\n",
    "\n"
   ]
  }
 ],
 "metadata": {
  "kernelspec": {
   "display_name": "Python 3",
   "language": "python",
   "name": "python3"
  },
  "language_info": {
   "codemirror_mode": {
    "name": "ipython",
    "version": 3
   },
   "file_extension": ".py",
   "mimetype": "text/x-python",
   "name": "python",
   "nbconvert_exporter": "python",
   "pygments_lexer": "ipython3",
   "version": "3.8.6"
  }
 },
 "nbformat": 4,
 "nbformat_minor": 5
}
