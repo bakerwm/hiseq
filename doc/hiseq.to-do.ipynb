{
 "cells": [
  {
   "cell_type": "markdown",
   "id": "distinct-event",
   "metadata": {},
   "source": [
    "# dev version\n",
    "\n",
    "\n",
    "\n",
    "\n",
    "## to-do list\n",
    "\n",
    "- [ ] bam - module, \n",
    "- [ ] fastx - module, \n",
    "- [ ] qc.fragsize  \n",
    "- [ ] qc.nucleotide_content \n",
    "- [ ] qc.coverage (bam,gene) \n",
    "\n",
    "### Main module\n",
    "\n",
    "- [ ] align (standard port)  \n",
    "- [ ] \n",
    "\n",
    "\n",
    "\n",
    "\n",
    "\n",
    "\n",
    "\n",
    "## How to develop a python package\n",
    "\n",
    "[Making a Python Package](https://python-packaging-tutorial.readthedocs.io/en/latest/setup_py.html)\n",
    "    \n",
    "\n",
    "[Python Packaging User Guide](https://packaging.python.org/#)\n",
    "\n",
    "\n",
    "[Command Line Scripts](https://python-packaging.readthedocs.io/en/latest/command-line-scripts.html)\n",
    "\n",
    "\n",
    "[Typer](https://typer.tiangolo.com/), [source code](https://github.com/tiangolo/typer)\n",
    "\n",
    "\n",
    "\n",
    "\n",
    "\n",
    "\n",
    "\n",
    "\n",
    "\n",
    "\n",
    "\n",
    "\n",
    "\n",
    "\n",
    "\n",
    "\n",
    "\n",
    "\n"
   ]
  }
 ],
 "metadata": {
  "kernelspec": {
   "display_name": "Python 3",
   "language": "python",
   "name": "python3"
  },
  "language_info": {
   "codemirror_mode": {
    "name": "ipython",
    "version": 3
   },
   "file_extension": ".py",
   "mimetype": "text/x-python",
   "name": "python",
   "nbconvert_exporter": "python",
   "pygments_lexer": "ipython3",
   "version": "3.8.6"
  }
 },
 "nbformat": 4,
 "nbformat_minor": 5
}
