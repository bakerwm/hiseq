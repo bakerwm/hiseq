{
 "cells": [
  {
   "cell_type": "markdown",
   "id": "fourth-annual",
   "metadata": {
    "execution": {
     "iopub.execute_input": "2021-02-01T09:40:16.883945Z",
     "iopub.status.busy": "2021-02-01T09:40:16.883466Z",
     "iopub.status.idle": "2021-02-01T09:40:16.887971Z",
     "shell.execute_reply": "2021-02-01T09:40:16.886829Z",
     "shell.execute_reply.started": "2021-02-01T09:40:16.883898Z"
    }
   },
   "source": [
    "# ATACseq pipeline\n",
    "\n",
    "useful links: \n",
    "\n",
    "1. http://pepatac.databio.org/en/latest/tutorial/ \n",
    "\n",
    "2. https://github.com/haibol2016/ATACseqQCWorkshop \n",
    "\n",
    "3. https://github.com/tobiasrausch/ATACseq \n",
    "\n",
    "4. https://tobiasrausch.com/courses/atac/atac-seq-data-analysis.html \n",
    "\n",
    "5. https://github.com/nf-core/atacseq \n",
    "\n",
    "6. https://github.com/RamsinghLab/ATACseeker \n",
    "\n",
    "\n"
   ]
  },
  {
   "cell_type": "code",
   "execution_count": null,
   "id": "successful-avenue",
   "metadata": {},
   "outputs": [],
   "source": [
    "\n",
    "\n"
   ]
  }
 ],
 "metadata": {
  "kernelspec": {
   "display_name": "Python 3",
   "language": "python",
   "name": "python3"
  },
  "language_info": {
   "codemirror_mode": {
    "name": "ipython",
    "version": 3
   },
   "file_extension": ".py",
   "mimetype": "text/x-python",
   "name": "python",
   "nbconvert_exporter": "python",
   "pygments_lexer": "ipython3",
   "version": "3.8.6"
  }
 },
 "nbformat": 4,
 "nbformat_minor": 5
}
